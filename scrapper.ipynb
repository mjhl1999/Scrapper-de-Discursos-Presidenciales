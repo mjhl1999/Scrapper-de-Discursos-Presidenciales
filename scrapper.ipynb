{
 "cells": [
  {
   "cell_type": "code",
   "execution_count": 8,
   "id": "6c78991a",
   "metadata": {},
   "outputs": [],
   "source": [
    "from bs4 import BeautifulSoup as bs\n",
    "import requests"
   ]
  },
  {
   "cell_type": "code",
   "execution_count": 9,
   "id": "5ab6563f",
   "metadata": {},
   "outputs": [],
   "source": [
    "url = \"https://www.gob.mx/epn/prensa/diversas-183440?idiom=es\"\n",
    "page = requests.get(url)\n",
    "soup = bs(page.content, \"html.parser\")\n",
    "body = soup.find_all('div', \"article-body\")\n",
    "#print(body) #full page\n",
    "\n",
    "html = page.text\n",
    "tags = soup.findAll('p') #gets the page body\n",
    "\n",
    "ps = len(tags) #number of <p>'s in html\n",
    "res = \"\"\n",
    "\n",
    "for i in range(ps-6):\n",
    "    for b in body:\n",
    "        sub = b.find_all('p')\n",
    "    res = res + sub[i].text + \"\\n\"\n",
    "\n",
    "#print(res) #body page\n",
    "\n",
    "title = soup.findAll('h1')[0].text + \".txt\"\n",
    "\n",
    "#create .txt file\n",
    "f= open(title,\"w+\")\n",
    "f.write(res)\n",
    "f.close()"
   ]
  }
 ],
 "metadata": {
  "kernelspec": {
   "display_name": "Python 3 (ipykernel)",
   "language": "python",
   "name": "python3"
  },
  "language_info": {
   "codemirror_mode": {
    "name": "ipython",
    "version": 3
   },
   "file_extension": ".py",
   "mimetype": "text/x-python",
   "name": "python",
   "nbconvert_exporter": "python",
   "pygments_lexer": "ipython3",
   "version": "3.8.10"
  }
 },
 "nbformat": 4,
 "nbformat_minor": 5
}
