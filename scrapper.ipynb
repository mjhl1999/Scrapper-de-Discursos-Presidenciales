{
 "cells": [
  {
   "cell_type": "code",
   "execution_count": 2,
   "id": "6c78991a",
   "metadata": {},
   "outputs": [],
   "source": [
    "from bs4 import BeautifulSoup as bs\n",
    "import requests\n",
    "from datetime import datetime"
   ]
  },
  {
   "cell_type": "code",
   "execution_count": 15,
   "id": "5ab6563f",
   "metadata": {},
   "outputs": [],
   "source": [
    "url = \"https://www.gob.mx/epn/prensa/diversas-183108?idiom=es\"\n",
    "page = requests.get(url)\n",
    "soup = bs(page.content, \"html.parser\")\n",
    "body = soup.find_all('div', \"article-body\")\n",
    "#print(body) #full page\n",
    "\n",
    "def get_date():\n",
    "    #date = soup.findAll('dd')[1].text.replace(\" de\",\"\")\n",
    "    #d = datetime.strptime(date, '%d %B %Y')\n",
    "    #return date\n",
    "\n",
    "def get_title():\n",
    "    return soup.findAll('h1')[0].text + \".txt\"\n",
    "\n",
    "def get_body():\n",
    "    html = page.text\n",
    "    tags = soup.findAll('p') #gets the page body\n",
    "\n",
    "    ps = len(tags) #number of <p>'s in html\n",
    "    res = \"\"\n",
    "    \n",
    "    for i in range(ps-6):\n",
    "        for b in body:\n",
    "            sub = b.find_all('p')\n",
    "        res = res + sub[i].text + \"\\n\"\n",
    "\n",
    "    #print(res) #body page\n",
    "    return res\n",
    "\n",
    "title = get_title()\n",
    "speech = save_speech()\n",
    "\n",
    "\n",
    "#create .txt file\n",
    "f= open(title,\"w+\")\n",
    "f.write(speech)\n",
    "f.close()"
   ]
  }
 ],
 "metadata": {
  "kernelspec": {
   "display_name": "Python 3 (ipykernel)",
   "language": "python",
   "name": "python3"
  },
  "language_info": {
   "codemirror_mode": {
    "name": "ipython",
    "version": 3
   },
   "file_extension": ".py",
   "mimetype": "text/x-python",
   "name": "python",
   "nbconvert_exporter": "python",
   "pygments_lexer": "ipython3",
   "version": "3.8.10"
  }
 },
 "nbformat": 4,
 "nbformat_minor": 5
}
